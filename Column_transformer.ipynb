{
 "cells": [
  {
   "cell_type": "code",
   "execution_count": 90,
   "id": "b81e3898-fa85-4d32-a9fb-daa8210c55e5",
   "metadata": {},
   "outputs": [],
   "source": [
    "import numpy as np\n",
    "import pandas as pd"
   ]
  },
  {
   "cell_type": "code",
   "execution_count": 91,
   "id": "08841f22-9d7b-4916-a1ec-3d1af68b84ff",
   "metadata": {},
   "outputs": [],
   "source": [
    "from sklearn.impute import SimpleImputer\n",
    "from sklearn.preprocessing import OneHotEncoder\n",
    "from sklearn.preprocessing import OrdinalEncoder "
   ]
  },
  {
   "cell_type": "code",
   "execution_count": 92,
   "id": "336ad48f-bd9c-44f9-8813-104063f2b784",
   "metadata": {},
   "outputs": [
    {
     "data": {
      "text/html": [
       "<div>\n",
       "<style scoped>\n",
       "    .dataframe tbody tr th:only-of-type {\n",
       "        vertical-align: middle;\n",
       "    }\n",
       "\n",
       "    .dataframe tbody tr th {\n",
       "        vertical-align: top;\n",
       "    }\n",
       "\n",
       "    .dataframe thead th {\n",
       "        text-align: right;\n",
       "    }\n",
       "</style>\n",
       "<table border=\"1\" class=\"dataframe\">\n",
       "  <thead>\n",
       "    <tr style=\"text-align: right;\">\n",
       "      <th></th>\n",
       "      <th>age</th>\n",
       "      <th>gender</th>\n",
       "      <th>fever</th>\n",
       "      <th>cough</th>\n",
       "      <th>city</th>\n",
       "      <th>has_covid</th>\n",
       "    </tr>\n",
       "  </thead>\n",
       "  <tbody>\n",
       "    <tr>\n",
       "      <th>0</th>\n",
       "      <td>60</td>\n",
       "      <td>Male</td>\n",
       "      <td>103.0</td>\n",
       "      <td>Mild</td>\n",
       "      <td>Kolkata</td>\n",
       "      <td>No</td>\n",
       "    </tr>\n",
       "    <tr>\n",
       "      <th>1</th>\n",
       "      <td>27</td>\n",
       "      <td>Male</td>\n",
       "      <td>100.0</td>\n",
       "      <td>Mild</td>\n",
       "      <td>Delhi</td>\n",
       "      <td>Yes</td>\n",
       "    </tr>\n",
       "    <tr>\n",
       "      <th>2</th>\n",
       "      <td>42</td>\n",
       "      <td>Male</td>\n",
       "      <td>101.0</td>\n",
       "      <td>Mild</td>\n",
       "      <td>Delhi</td>\n",
       "      <td>No</td>\n",
       "    </tr>\n",
       "    <tr>\n",
       "      <th>3</th>\n",
       "      <td>31</td>\n",
       "      <td>Female</td>\n",
       "      <td>98.0</td>\n",
       "      <td>Mild</td>\n",
       "      <td>Kolkata</td>\n",
       "      <td>No</td>\n",
       "    </tr>\n",
       "    <tr>\n",
       "      <th>4</th>\n",
       "      <td>65</td>\n",
       "      <td>Female</td>\n",
       "      <td>101.0</td>\n",
       "      <td>Mild</td>\n",
       "      <td>Mumbai</td>\n",
       "      <td>No</td>\n",
       "    </tr>\n",
       "  </tbody>\n",
       "</table>\n",
       "</div>"
      ],
      "text/plain": [
       "   age  gender  fever cough     city has_covid\n",
       "0   60    Male  103.0  Mild  Kolkata        No\n",
       "1   27    Male  100.0  Mild    Delhi       Yes\n",
       "2   42    Male  101.0  Mild    Delhi        No\n",
       "3   31  Female   98.0  Mild  Kolkata        No\n",
       "4   65  Female  101.0  Mild   Mumbai        No"
      ]
     },
     "execution_count": 92,
     "metadata": {},
     "output_type": "execute_result"
    }
   ],
   "source": [
    "df = pd.read_csv('covid_toy.csv')\n",
    "df.head()  # age is a numerical col, gender , city is a nominal categorical col and cough, fever is ordinal"
   ]
  },
  {
   "cell_type": "code",
   "execution_count": 93,
   "id": "c0dca285-5d7c-43f5-b9d7-2a9d603621e0",
   "metadata": {},
   "outputs": [
    {
     "data": {
      "text/plain": [
       "cough\n",
       "Mild      62\n",
       "Strong    38\n",
       "Name: count, dtype: int64"
      ]
     },
     "execution_count": 93,
     "metadata": {},
     "output_type": "execute_result"
    }
   ],
   "source": [
    "df['cough'].value_counts()"
   ]
  },
  {
   "cell_type": "code",
   "execution_count": 94,
   "id": "56342e7d-c45d-4931-92c7-75e4ffb31593",
   "metadata": {},
   "outputs": [
    {
     "data": {
      "text/plain": [
       "age           0\n",
       "gender        0\n",
       "fever        10\n",
       "cough         0\n",
       "city          0\n",
       "has_covid     0\n",
       "dtype: int64"
      ]
     },
     "execution_count": 94,
     "metadata": {},
     "output_type": "execute_result"
    }
   ],
   "source": [
    "df.isnull().sum() # there are 10 null vals in fever col. so apply simple imputer"
   ]
  },
  {
   "cell_type": "code",
   "execution_count": 95,
   "id": "16fc2866-9313-40c7-acec-bb5c881ffffc",
   "metadata": {},
   "outputs": [],
   "source": [
    "from sklearn.model_selection import train_test_split\n",
    "x_train, x_test, y_train, y_test = train_test_split(df.iloc[:,:5],df['has_covid'],test_size=0.2)"
   ]
  },
  {
   "cell_type": "raw",
   "id": "7693f8ba-ee16-4156-a32e-6c942c949596",
   "metadata": {},
   "source": [
    "1. Aaam Zindagi"
   ]
  },
  {
   "cell_type": "code",
   "execution_count": 96,
   "id": "c99be1fa-5320-4771-bbd9-4f4330e6eacd",
   "metadata": {},
   "outputs": [
    {
     "data": {
      "text/plain": [
       "((80, 1), (20, 1))"
      ]
     },
     "execution_count": 96,
     "metadata": {},
     "output_type": "execute_result"
    }
   ],
   "source": [
    "# adding simple imputer to fever col\n",
    "si = SimpleImputer()\n",
    "x_train_fever = si.fit_transform(x_train[['fever']])\n",
    "\n",
    "# also the test data\n",
    "x_test_fever = si.fit_transform(x_test[['fever']])\n",
    "x_train_fever.shape , x_test_fever.shape"
   ]
  },
  {
   "cell_type": "code",
   "execution_count": 97,
   "id": "87717810-6f29-43e3-adda-da1e76ff9d27",
   "metadata": {},
   "outputs": [
    {
     "data": {
      "text/plain": [
       "((80, 1), (20, 1))"
      ]
     },
     "execution_count": 97,
     "metadata": {},
     "output_type": "execute_result"
    }
   ],
   "source": [
    "# Ordinal Encoding -> cough\n",
    "oe = OrdinalEncoder(categories=[['Mild','Strong']],dtype=np.int32)\n",
    "x_train_cough = oe.fit_transform(x_train[['cough']])\n",
    "\n",
    "# also for the test data\n",
    "x_test_cough = oe.fit_transform(x_test[['cough']])\n",
    "\n",
    "x_train_cough.shape,x_test_cough.shape"
   ]
  },
  {
   "cell_type": "code",
   "execution_count": 98,
   "id": "b5fb67e7-512f-4eb9-9c92-31eb7a926516",
   "metadata": {},
   "outputs": [
    {
     "name": "stderr",
     "output_type": "stream",
     "text": [
      "C:\\Users\\Atharva\\ANACONDAS\\envs\\myenv\\Lib\\site-packages\\sklearn\\preprocessing\\_encoders.py:975: FutureWarning: `sparse` was renamed to `sparse_output` in version 1.2 and will be removed in 1.4. `sparse_output` is ignored unless you leave `sparse` to its default value.\n",
      "  warnings.warn(\n",
      "C:\\Users\\Atharva\\ANACONDAS\\envs\\myenv\\Lib\\site-packages\\sklearn\\preprocessing\\_encoders.py:975: FutureWarning: `sparse` was renamed to `sparse_output` in version 1.2 and will be removed in 1.4. `sparse_output` is ignored unless you leave `sparse` to its default value.\n",
      "  warnings.warn(\n"
     ]
    },
    {
     "data": {
      "text/plain": [
       "((80, 4), (20, 4))"
      ]
     },
     "execution_count": 98,
     "metadata": {},
     "output_type": "execute_result"
    }
   ],
   "source": [
    "#  OneHotEncoding -> gender,city\n",
    "ohe = OneHotEncoder(drop='first', sparse=False, dtype=np.int32)\n",
    "x_train_gender_city = ohe.fit_transform(x_train[['gender','city']]) \n",
    "#  also the test data\n",
    "x_test_gender_city = ohe.fit_transform(x_test[['gender','city']])\n",
    "\n",
    "x_train_gender_city.shape, x_test_gender_city.shape "
   ]
  },
  {
   "cell_type": "code",
   "execution_count": 99,
   "id": "40ecadd7-e58a-42e6-84dc-526cf64b4ec9",
   "metadata": {},
   "outputs": [],
   "source": [
    "# Extracting Age\n",
    "x_train_age = x_train.drop(columns=['gender','fever','cough','city']).values\n",
    "\n",
    "# also the test data\n",
    "x_test_age = x_train.drop(columns=['gender','fever','cough','city']).values\n"
   ]
  },
  {
   "cell_type": "code",
   "execution_count": 100,
   "id": "2f52df4c-368e-4973-bf32-4da57f82c454",
   "metadata": {},
   "outputs": [],
   "source": [
    "x_train_transformed = np.concatenate((x_train_age,x_train_fever,x_train_gender_city,x_train_cough),axis=1)"
   ]
  },
  {
   "cell_type": "code",
   "execution_count": 101,
   "id": "18ca3b6e-c2b8-4b45-8bbe-c66295ad5072",
   "metadata": {},
   "outputs": [
    {
     "data": {
      "text/plain": [
       "array([[ 25.   ,  99.   ,   0.   ,   0.   ,   1.   ,   0.   ,   1.   ],\n",
       "       [ 26.   ,  98.   ,   0.   ,   0.   ,   1.   ,   0.   ,   0.   ],\n",
       "       [ 83.   ,  98.   ,   1.   ,   1.   ,   0.   ,   0.   ,   0.   ],\n",
       "       [ 49.   ,  99.   ,   0.   ,   0.   ,   0.   ,   0.   ,   1.   ],\n",
       "       [ 27.   , 100.   ,   1.   ,   1.   ,   0.   ,   0.   ,   0.   ],\n",
       "       [ 27.   , 100.   ,   1.   ,   0.   ,   1.   ,   0.   ,   0.   ],\n",
       "       [ 49.   , 101.   ,   0.   ,   1.   ,   0.   ,   0.   ,   0.   ],\n",
       "       [ 40.   ,  98.   ,   0.   ,   1.   ,   0.   ,   0.   ,   1.   ],\n",
       "       [ 82.   , 100.625,   1.   ,   0.   ,   1.   ,   0.   ,   0.   ],\n",
       "       [ 31.   ,  98.   ,   0.   ,   0.   ,   1.   ,   0.   ,   0.   ],\n",
       "       [ 75.   , 100.625,   0.   ,   1.   ,   0.   ,   0.   ,   0.   ],\n",
       "       [ 10.   ,  98.   ,   0.   ,   0.   ,   1.   ,   0.   ,   1.   ],\n",
       "       [ 15.   , 101.   ,   1.   ,   1.   ,   0.   ,   0.   ,   0.   ],\n",
       "       [  5.   , 100.   ,   0.   ,   0.   ,   1.   ,   0.   ,   0.   ],\n",
       "       [ 16.   , 103.   ,   0.   ,   0.   ,   0.   ,   0.   ,   0.   ],\n",
       "       [ 20.   , 100.625,   0.   ,   0.   ,   0.   ,   1.   ,   1.   ],\n",
       "       [ 64.   ,  98.   ,   0.   ,   0.   ,   0.   ,   0.   ,   0.   ],\n",
       "       [ 12.   ,  98.   ,   1.   ,   0.   ,   0.   ,   0.   ,   1.   ],\n",
       "       [ 55.   , 100.   ,   1.   ,   0.   ,   1.   ,   0.   ,   0.   ],\n",
       "       [ 22.   ,  99.   ,   0.   ,   0.   ,   0.   ,   0.   ,   0.   ],\n",
       "       [ 19.   , 100.   ,   0.   ,   0.   ,   1.   ,   0.   ,   0.   ],\n",
       "       [ 66.   ,  99.   ,   1.   ,   0.   ,   0.   ,   0.   ,   1.   ],\n",
       "       [ 42.   , 100.625,   0.   ,   0.   ,   0.   ,   0.   ,   1.   ],\n",
       "       [ 54.   , 104.   ,   0.   ,   0.   ,   1.   ,   0.   ,   1.   ],\n",
       "       [ 71.   ,  98.   ,   0.   ,   0.   ,   1.   ,   0.   ,   1.   ],\n",
       "       [ 34.   ,  98.   ,   1.   ,   0.   ,   1.   ,   0.   ,   1.   ],\n",
       "       [ 16.   , 104.   ,   1.   ,   0.   ,   1.   ,   0.   ,   0.   ],\n",
       "       [ 68.   , 101.   ,   0.   ,   1.   ,   0.   ,   0.   ,   1.   ],\n",
       "       [ 23.   , 100.625,   1.   ,   0.   ,   0.   ,   1.   ,   0.   ],\n",
       "       [ 49.   , 102.   ,   0.   ,   1.   ,   0.   ,   0.   ,   0.   ],\n",
       "       [ 73.   , 103.   ,   0.   ,   1.   ,   0.   ,   0.   ,   0.   ],\n",
       "       [ 84.   , 100.625,   0.   ,   0.   ,   0.   ,   0.   ,   0.   ],\n",
       "       [ 83.   , 103.   ,   1.   ,   0.   ,   1.   ,   0.   ,   0.   ],\n",
       "       [ 81.   , 101.   ,   0.   ,   0.   ,   0.   ,   1.   ,   0.   ],\n",
       "       [ 81.   ,  98.   ,   0.   ,   0.   ,   0.   ,   1.   ,   1.   ],\n",
       "       [ 46.   , 103.   ,   1.   ,   0.   ,   0.   ,   0.   ,   1.   ],\n",
       "       [ 47.   , 100.   ,   0.   ,   0.   ,   0.   ,   0.   ,   1.   ],\n",
       "       [  6.   , 104.   ,   0.   ,   0.   ,   1.   ,   0.   ,   0.   ],\n",
       "       [ 33.   , 102.   ,   0.   ,   1.   ,   0.   ,   0.   ,   1.   ],\n",
       "       [ 80.   ,  98.   ,   0.   ,   1.   ,   0.   ,   0.   ,   0.   ],\n",
       "       [ 80.   , 100.   ,   1.   ,   0.   ,   0.   ,   0.   ,   0.   ],\n",
       "       [ 73.   ,  98.   ,   1.   ,   0.   ,   0.   ,   0.   ,   0.   ],\n",
       "       [ 34.   , 101.   ,   0.   ,   1.   ,   0.   ,   0.   ,   1.   ],\n",
       "       [ 60.   , 103.   ,   1.   ,   0.   ,   1.   ,   0.   ,   0.   ],\n",
       "       [ 69.   ,  98.   ,   0.   ,   0.   ,   0.   ,   1.   ,   1.   ],\n",
       "       [ 69.   , 102.   ,   0.   ,   0.   ,   0.   ,   0.   ,   0.   ],\n",
       "       [ 34.   , 104.   ,   0.   ,   1.   ,   0.   ,   0.   ,   1.   ],\n",
       "       [ 20.   , 101.   ,   0.   ,   0.   ,   0.   ,   0.   ,   0.   ],\n",
       "       [ 47.   , 101.   ,   1.   ,   0.   ,   0.   ,   0.   ,   1.   ],\n",
       "       [ 82.   , 102.   ,   0.   ,   0.   ,   0.   ,   0.   ,   1.   ],\n",
       "       [ 13.   , 100.   ,   0.   ,   0.   ,   1.   ,   0.   ,   1.   ],\n",
       "       [ 20.   , 102.   ,   1.   ,   1.   ,   0.   ,   0.   ,   1.   ],\n",
       "       [ 19.   , 100.   ,   0.   ,   0.   ,   0.   ,   0.   ,   1.   ],\n",
       "       [  5.   , 102.   ,   1.   ,   0.   ,   1.   ,   0.   ,   0.   ],\n",
       "       [ 65.   ,  99.   ,   1.   ,   1.   ,   0.   ,   0.   ,   0.   ],\n",
       "       [  5.   ,  98.   ,   0.   ,   0.   ,   0.   ,   1.   ,   1.   ],\n",
       "       [ 23.   ,  98.   ,   1.   ,   0.   ,   0.   ,   1.   ,   1.   ],\n",
       "       [ 64.   , 101.   ,   0.   ,   1.   ,   0.   ,   0.   ,   0.   ],\n",
       "       [ 51.   , 101.   ,   0.   ,   0.   ,   1.   ,   0.   ,   1.   ],\n",
       "       [ 42.   , 104.   ,   1.   ,   0.   ,   0.   ,   1.   ,   0.   ],\n",
       "       [ 44.   , 104.   ,   1.   ,   0.   ,   0.   ,   1.   ,   0.   ],\n",
       "       [ 72.   ,  99.   ,   1.   ,   0.   ,   0.   ,   0.   ,   0.   ],\n",
       "       [ 14.   ,  99.   ,   0.   ,   0.   ,   0.   ,   1.   ,   0.   ],\n",
       "       [ 38.   , 101.   ,   0.   ,   0.   ,   0.   ,   0.   ,   0.   ],\n",
       "       [ 51.   , 104.   ,   1.   ,   0.   ,   0.   ,   0.   ,   0.   ],\n",
       "       [ 24.   , 102.   ,   0.   ,   0.   ,   0.   ,   0.   ,   1.   ],\n",
       "       [ 34.   , 100.625,   0.   ,   0.   ,   0.   ,   1.   ,   1.   ],\n",
       "       [ 10.   , 100.   ,   1.   ,   0.   ,   0.   ,   0.   ,   0.   ],\n",
       "       [ 69.   , 103.   ,   0.   ,   0.   ,   1.   ,   0.   ,   0.   ],\n",
       "       [ 11.   , 100.   ,   1.   ,   0.   ,   0.   ,   0.   ,   0.   ],\n",
       "       [ 75.   , 104.   ,   0.   ,   1.   ,   0.   ,   0.   ,   1.   ],\n",
       "       [ 60.   ,  99.   ,   0.   ,   0.   ,   0.   ,   1.   ,   0.   ],\n",
       "       [ 70.   , 103.   ,   1.   ,   0.   ,   1.   ,   0.   ,   1.   ],\n",
       "       [ 38.   , 100.625,   1.   ,   1.   ,   0.   ,   0.   ,   0.   ],\n",
       "       [  8.   , 101.   ,   0.   ,   0.   ,   1.   ,   0.   ,   0.   ],\n",
       "       [ 42.   , 101.   ,   1.   ,   1.   ,   0.   ,   0.   ,   0.   ],\n",
       "       [ 14.   , 101.   ,   1.   ,   0.   ,   0.   ,   0.   ,   1.   ],\n",
       "       [ 74.   , 102.   ,   1.   ,   0.   ,   0.   ,   1.   ,   0.   ],\n",
       "       [ 83.   , 101.   ,   0.   ,   0.   ,   1.   ,   0.   ,   0.   ],\n",
       "       [ 11.   , 100.   ,   0.   ,   0.   ,   1.   ,   0.   ,   1.   ]])"
      ]
     },
     "execution_count": 101,
     "metadata": {},
     "output_type": "execute_result"
    }
   ],
   "source": [
    "x_train_transformed"
   ]
  },
  {
   "cell_type": "markdown",
   "id": "a1ea97d1-c48e-485d-b869-d43f0921109e",
   "metadata": {},
   "source": [
    "MENTOS ZINDAGI"
   ]
  },
  {
   "cell_type": "code",
   "execution_count": 102,
   "id": "b30ab661-0c19-4bc5-bbcf-215da8057273",
   "metadata": {},
   "outputs": [],
   "source": [
    "from sklearn.compose import ColumnTransformer "
   ]
  },
  {
   "cell_type": "code",
   "execution_count": 103,
   "id": "d4b60176-474d-4752-82fd-0f8e83ffceea",
   "metadata": {},
   "outputs": [],
   "source": [
    "transformer = ColumnTransformer(transformers=[\n",
    "    ('tnf1',SimpleImputer(),['fever']),\n",
    "    ('tnf2',OrdinalEncoder(categories=[['Mild','Strong']]),['cough']),\n",
    "    ('tnf3',OneHotEncoder(sparse=False,drop='first'),['gender','city'])\n",
    "],remainder='passthrough') # we can use drop instead of passthrough to drop a column if not needed"
   ]
  },
  {
   "cell_type": "code",
   "execution_count": 104,
   "id": "bc581a3a-0050-46bc-9bff-f29122437f91",
   "metadata": {},
   "outputs": [
    {
     "name": "stderr",
     "output_type": "stream",
     "text": [
      "C:\\Users\\Atharva\\ANACONDAS\\envs\\myenv\\Lib\\site-packages\\sklearn\\preprocessing\\_encoders.py:975: FutureWarning: `sparse` was renamed to `sparse_output` in version 1.2 and will be removed in 1.4. `sparse_output` is ignored unless you leave `sparse` to its default value.\n",
      "  warnings.warn(\n"
     ]
    },
    {
     "data": {
      "text/plain": [
       "(80, 7)"
      ]
     },
     "execution_count": 104,
     "metadata": {},
     "output_type": "execute_result"
    }
   ],
   "source": [
    "transformer.fit_transform(x_train).shape"
   ]
  },
  {
   "cell_type": "code",
   "execution_count": 106,
   "id": "fb29d252-e778-4646-938e-269601395218",
   "metadata": {},
   "outputs": [
    {
     "data": {
      "text/plain": [
       "(20, 7)"
      ]
     },
     "execution_count": 106,
     "metadata": {},
     "output_type": "execute_result"
    }
   ],
   "source": [
    "transformer.transform(x_test).shape"
   ]
  },
  {
   "cell_type": "code",
   "execution_count": null,
   "id": "2ad7b6a3-c6eb-4eee-bdf4-f4d57de2257a",
   "metadata": {},
   "outputs": [],
   "source": []
  }
 ],
 "metadata": {
  "kernelspec": {
   "display_name": "Python 3 (ipykernel)",
   "language": "python",
   "name": "python3"
  },
  "language_info": {
   "codemirror_mode": {
    "name": "ipython",
    "version": 3
   },
   "file_extension": ".py",
   "mimetype": "text/x-python",
   "name": "python",
   "nbconvert_exporter": "python",
   "pygments_lexer": "ipython3",
   "version": "3.11.5"
  }
 },
 "nbformat": 4,
 "nbformat_minor": 5
}
